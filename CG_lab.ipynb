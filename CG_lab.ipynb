{
 "cells": [
  {
   "cell_type": "markdown",
   "id": "4afafd97",
   "metadata": {},
   "source": [
    "Computer Grapics Lab_01\n"
   ]
  },
  {
   "cell_type": "code",
   "execution_count": 1,
   "id": "34ed44e4",
   "metadata": {},
   "outputs": [
    {
     "ename": "ModuleNotFoundError",
     "evalue": "No module named 'pygame'",
     "output_type": "error",
     "traceback": [
      "\u001b[1;31m---------------------------------------------------------------------------\u001b[0m",
      "\u001b[1;31mModuleNotFoundError\u001b[0m                       Traceback (most recent call last)",
      "Cell \u001b[1;32mIn[1], line 1\u001b[0m\n\u001b[1;32m----> 1\u001b[0m \u001b[38;5;28;01mimport\u001b[39;00m \u001b[38;5;21;01mpygame\u001b[39;00m\n\u001b[0;32m      2\u001b[0m \u001b[38;5;28;01mimport\u001b[39;00m \u001b[38;5;21;01msys\u001b[39;00m\n\u001b[0;32m      4\u001b[0m \u001b[38;5;66;03m# Initialize Pygame\u001b[39;00m\n",
      "\u001b[1;31mModuleNotFoundError\u001b[0m: No module named 'pygame'"
     ]
    }
   ],
   "source": [
    "import pygame\n",
    "import sys\n",
    "\n",
    "# Initialize Pygame\n",
    "pygame.init()\n",
    "\n",
    "# Colors (R, G, B)\n",
    "YELLOW = (255, 255, 0)\n",
    "RED = (255, 0, 0)\n",
    "GREEN = (0, 255, 0)\n",
    "WHITE = (255, 255, 255)\n",
    "BLACK = (0, 0, 0)\n",
    "\n",
    "# Set up window\n",
    "win_width = 400\n",
    "win_height = 400\n",
    "screen = pygame.display.set_mode((win_width, win_height))\n",
    "pygame.display.set_caption(\"Shape Drawer\")\n",
    "\n",
    "# Fill background with white\n",
    "screen.fill(WHITE)\n",
    "\n",
    "# --- Shape functions ---\n",
    "def draw_triangle():\n",
    "    x = [10, 50, 100]\n",
    "    y = [100, 20, 100]\n",
    "    points = [(x[i], y[i]) for i in range(3)]\n",
    "    pygame.draw.polygon(screen, YELLOW, points)\n",
    "\n",
    "def draw_circle():\n",
    "    pygame.draw.circle(screen, RED, (100, 100), 45)\n",
    "\n",
    "def draw_rectangle():\n",
    "    rect_x1 = 80  # 100 - 20\n",
    "    rect_y1 = 80  # 100 - 20\n",
    "    rect_x2 = 180\n",
    "    rect_y2 = 180\n",
    "    width = rect_x2 - rect_x1\n",
    "    height = rect_y2 - rect_y1\n",
    "    pygame.draw.rect(screen, GREEN, (rect_x1, rect_y1, width, height))\n",
    "\n",
    "# --- Main ---\n",
    "# Take input sequence (e.g., CRT)\n",
    "sequence = input(\"Enter shape sequence (C, R, T): \")\n",
    "\n",
    "# Draw shapes according to sequence\n",
    "for char in sequence:\n",
    "    if char == 'C':\n",
    "        draw_circle()\n",
    "    elif char == 'R':\n",
    "        draw_rectangle()\n",
    "    else:\n",
    "        draw_triangle()\n",
    "\n",
    "# Update the display\n",
    "pygame.display.update()\n",
    "\n",
    "# Wait until user closes the window\n",
    "while True:\n",
    "    for event in pygame.event.get():\n",
    "        if event.type == pygame.QUIT:\n",
    "            pygame.quit()\n",
    "            sys.exit()"
   ]
  }
 ],
 "metadata": {
  "kernelspec": {
   "display_name": "Python 3",
   "language": "python",
   "name": "python3"
  },
  "language_info": {
   "codemirror_mode": {
    "name": "ipython",
    "version": 3
   },
   "file_extension": ".py",
   "mimetype": "text/x-python",
   "name": "python",
   "nbconvert_exporter": "python",
   "pygments_lexer": "ipython3",
   "version": "3.11.4"
  }
 },
 "nbformat": 4,
 "nbformat_minor": 5
}
